{
 "cells": [
  {
   "cell_type": "code",
   "execution_count": 2,
   "metadata": {},
   "outputs": [
    {
     "data": {
      "text/html": [
       "<div>\n",
       "<style scoped>\n",
       "    .dataframe tbody tr th:only-of-type {\n",
       "        vertical-align: middle;\n",
       "    }\n",
       "\n",
       "    .dataframe tbody tr th {\n",
       "        vertical-align: top;\n",
       "    }\n",
       "\n",
       "    .dataframe thead th {\n",
       "        text-align: right;\n",
       "    }\n",
       "</style>\n",
       "<table border=\"1\" class=\"dataframe\">\n",
       "  <thead>\n",
       "    <tr style=\"text-align: right;\">\n",
       "      <th></th>\n",
       "      <th>Name</th>\n",
       "      <th>Date_Fursuit_Added</th>\n",
       "      <th>Species</th>\n",
       "      <th>Fur_Gender</th>\n",
       "      <th>Owner_Gender</th>\n",
       "      <th>Birthday</th>\n",
       "      <th>Date_Account_Added</th>\n",
       "      <th>Country</th>\n",
       "    </tr>\n",
       "  </thead>\n",
       "  <tbody>\n",
       "    <tr>\n",
       "      <th>0</th>\n",
       "      <td>Edragyz</td>\n",
       "      <td>2014-07-21</td>\n",
       "      <td>pokemon</td>\n",
       "      <td>CrossGender</td>\n",
       "      <td>Male</td>\n",
       "      <td>NaN</td>\n",
       "      <td>2014-05-29</td>\n",
       "      <td>Zaire</td>\n",
       "    </tr>\n",
       "    <tr>\n",
       "      <th>1</th>\n",
       "      <td>Latlevy</td>\n",
       "      <td>2014-07-21</td>\n",
       "      <td>pokemon</td>\n",
       "      <td>CrossGender</td>\n",
       "      <td>Male</td>\n",
       "      <td>NaN</td>\n",
       "      <td>2014-05-29</td>\n",
       "      <td>Zaire</td>\n",
       "    </tr>\n",
       "    <tr>\n",
       "      <th>2</th>\n",
       "      <td>Nrevion</td>\n",
       "      <td>2014-07-21</td>\n",
       "      <td>pokemon</td>\n",
       "      <td>CrossGender</td>\n",
       "      <td>Male</td>\n",
       "      <td>NaN</td>\n",
       "      <td>2014-05-29</td>\n",
       "      <td>Zaire</td>\n",
       "    </tr>\n",
       "    <tr>\n",
       "      <th>3</th>\n",
       "      <td>Tabion</td>\n",
       "      <td>2014-07-21</td>\n",
       "      <td>bat</td>\n",
       "      <td>CrossGender</td>\n",
       "      <td>Male</td>\n",
       "      <td>NaN</td>\n",
       "      <td>2014-05-29</td>\n",
       "      <td>Zaire</td>\n",
       "    </tr>\n",
       "    <tr>\n",
       "      <th>4</th>\n",
       "      <td>Uillian O Gerra</td>\n",
       "      <td>2012-06-01</td>\n",
       "      <td>bear</td>\n",
       "      <td>Male</td>\n",
       "      <td>Male</td>\n",
       "      <td>1987-05-08</td>\n",
       "      <td>2012-06-01</td>\n",
       "      <td>Ireland</td>\n",
       "    </tr>\n",
       "    <tr>\n",
       "      <th>...</th>\n",
       "      <td>...</td>\n",
       "      <td>...</td>\n",
       "      <td>...</td>\n",
       "      <td>...</td>\n",
       "      <td>...</td>\n",
       "      <td>...</td>\n",
       "      <td>...</td>\n",
       "      <td>...</td>\n",
       "    </tr>\n",
       "    <tr>\n",
       "      <th>4396</th>\n",
       "      <td>Zuki Akula</td>\n",
       "      <td>2007-12-24</td>\n",
       "      <td>gargoyle</td>\n",
       "      <td>Male</td>\n",
       "      <td>Male</td>\n",
       "      <td>1969-08-24</td>\n",
       "      <td>2007-10-05</td>\n",
       "      <td>United Kingdom</td>\n",
       "    </tr>\n",
       "    <tr>\n",
       "      <th>4397</th>\n",
       "      <td>Zunami</td>\n",
       "      <td>2010-10-12</td>\n",
       "      <td>wolf</td>\n",
       "      <td>Male</td>\n",
       "      <td>Male</td>\n",
       "      <td>1985-12-20</td>\n",
       "      <td>2010-10-12</td>\n",
       "      <td>Germany</td>\n",
       "    </tr>\n",
       "    <tr>\n",
       "      <th>4398</th>\n",
       "      <td>Zuni</td>\n",
       "      <td>2013-06-06</td>\n",
       "      <td>arctic fox</td>\n",
       "      <td>Male</td>\n",
       "      <td>Female</td>\n",
       "      <td>1994-12-01</td>\n",
       "      <td>2013-06-06</td>\n",
       "      <td>United States of America</td>\n",
       "    </tr>\n",
       "    <tr>\n",
       "      <th>4399</th>\n",
       "      <td>Zutharr SuiTiger</td>\n",
       "      <td>2010-09-26</td>\n",
       "      <td>tiger</td>\n",
       "      <td>Male</td>\n",
       "      <td>Male</td>\n",
       "      <td>1983-03-02</td>\n",
       "      <td>2007-12-27</td>\n",
       "      <td>Brazil</td>\n",
       "    </tr>\n",
       "    <tr>\n",
       "      <th>4400</th>\n",
       "      <td>Zuzu</td>\n",
       "      <td>2014-10-21</td>\n",
       "      <td>hybrid</td>\n",
       "      <td>Male</td>\n",
       "      <td>Male</td>\n",
       "      <td>0982-11-25</td>\n",
       "      <td>2014-10-21</td>\n",
       "      <td>Hungary</td>\n",
       "    </tr>\n",
       "  </tbody>\n",
       "</table>\n",
       "<p>4401 rows × 8 columns</p>\n",
       "</div>"
      ],
      "text/plain": [
       "                  Name Date_Fursuit_Added     Species   Fur_Gender  \\\n",
       "0              Edragyz         2014-07-21     pokemon  CrossGender   \n",
       "1              Latlevy         2014-07-21     pokemon  CrossGender   \n",
       "2              Nrevion         2014-07-21     pokemon  CrossGender   \n",
       "3               Tabion         2014-07-21         bat  CrossGender   \n",
       "4      Uillian O Gerra         2012-06-01        bear         Male   \n",
       "...                ...                ...         ...          ...   \n",
       "4396        Zuki Akula         2007-12-24    gargoyle         Male   \n",
       "4397            Zunami         2010-10-12        wolf         Male   \n",
       "4398             Zuni          2013-06-06  arctic fox         Male   \n",
       "4399  Zutharr SuiTiger         2010-09-26       tiger         Male   \n",
       "4400              Zuzu         2014-10-21      hybrid         Male   \n",
       "\n",
       "     Owner_Gender    Birthday Date_Account_Added                   Country  \n",
       "0            Male         NaN         2014-05-29                     Zaire  \n",
       "1            Male         NaN         2014-05-29                     Zaire  \n",
       "2            Male         NaN         2014-05-29                     Zaire  \n",
       "3            Male         NaN         2014-05-29                     Zaire  \n",
       "4            Male  1987-05-08         2012-06-01                   Ireland  \n",
       "...           ...         ...                ...                       ...  \n",
       "4396         Male  1969-08-24         2007-10-05            United Kingdom  \n",
       "4397         Male  1985-12-20         2010-10-12                   Germany  \n",
       "4398       Female  1994-12-01         2013-06-06  United States of America  \n",
       "4399         Male  1983-03-02         2007-12-27                    Brazil  \n",
       "4400         Male  0982-11-25         2014-10-21                   Hungary  \n",
       "\n",
       "[4401 rows x 8 columns]"
      ]
     },
     "execution_count": 2,
     "metadata": {},
     "output_type": "execute_result"
    }
   ],
   "source": [
    "import pandas as pd\n",
    "import numpy as np\n",
    "import matplotlib.pyplot as plt\n",
    "import os.path\n",
    "import pylab as py \n",
    "import statsmodels.api as sm\n",
    "import scipy\n",
    "\n",
    "\n",
    "pd.options.display.max_rows = 100\n",
    "%matplotlib inline\n",
    "\n",
    "\n",
    "pot_do_podatkov = os.path.join('D:\\Faks\\Projektna_analiza_podatkov\\Analiza-furryjev', 'furs_podatki')\n",
    "\n",
    "furs = pd.read_csv(pot_do_podatkov)\n",
    "Count_species = furs.groupby('Species').size().sort_values(ascending=False)\n",
    "Count_owner_g = furs.groupby('Owner_Gender').size().sort_values(ascending=False)\n",
    "Count_fur_g = furs.groupby('Fur_Gender').size().sort_values(ascending=False)\n",
    "furs"
   ]
  },
  {
   "cell_type": "markdown",
   "metadata": {},
   "source": [
    "## Število živalskih vrst \n",
    "Za začetek si oglejmo najpogostejše vrste živali.  \n",
    "Predpostavil sem, da bodo najpogostejše živali iz redu zveri, kar podatki, z izjemo zmaja na petem mestu, potrjujejo.  \n",
    "Naslednje vrste, ki izstopajo iz tega vzorca, so zajec na trinajstem, kenguru na sedemnajstem in konj na devetnajstem mestu."
   ]
  },
  {
   "cell_type": "code",
   "execution_count": 204,
   "metadata": {
    "scrolled": false
   },
   "outputs": [
    {
     "data": {
      "text/plain": [
       "Species\n",
       "wolf               483\n",
       "fox                426\n",
       "dog                307\n",
       "husky              265\n",
       "dragon             204\n",
       "cat                172\n",
       "lion               103\n",
       "tiger               98\n",
       "coyote              79\n",
       "german shepherd     64\n",
       "bear                62\n",
       "raccoon             54\n",
       "bunny               52\n",
       "skunk               49\n",
       "hyena               46\n",
       "fennec              46\n",
       "kangaroo            44\n",
       "arctic fox          43\n",
       "horse               43\n",
       "snow leopard        42\n",
       "dtype: int64"
      ]
     },
     "execution_count": 204,
     "metadata": {},
     "output_type": "execute_result"
    }
   ],
   "source": [
    "Count_species.head(20)"
   ]
  },
  {
   "cell_type": "markdown",
   "metadata": {},
   "source": [
    "Najredkejše živalske vrste si težko sistematsko ogledamo,\n",
    "saj se velik del vrst pojavi le nekajkrat in najpogosteje samo enkrat."
   ]
  },
  {
   "cell_type": "code",
   "execution_count": 11,
   "metadata": {},
   "outputs": [
    {
     "data": {
      "text/plain": [
       "60"
      ]
     },
     "execution_count": 11,
     "metadata": {},
     "output_type": "execute_result"
    }
   ],
   "source": [
    "def equals1(x):\n",
    "    return x == 1\n",
    "\n",
    "Filter = Count_species.apply(equals1)\n",
    "len(Count_species[Filter])"
   ]
  },
  {
   "cell_type": "markdown",
   "metadata": {},
   "source": [
    "Vprašamo se lahko torej o porazdelitvi vrst glede na pogostost, pred tem pa si oglejmo še graf števila pojavitev vsake vrste.  \n",
    "Za lažjo berljivost sem odstranil oznake na x osi, predstavljene so vrednosti za 225 različnih vrst."
   ]
  },
  {
   "cell_type": "code",
   "execution_count": 30,
   "metadata": {
    "scrolled": false
   },
   "outputs": [
    {
     "data": {
      "image/png": "[encoded data removed]",
      "text/plain": [
       "<Figure size 432x288 with 1 Axes>"
      ]
     },
     "metadata": {
      "needs_background": "light"
     },
     "output_type": "display_data"
    }
   ],
   "source": [
    "plt.plot(Count_species)\n",
    "plt.xticks([])\n",
    "plt.xlabel('Vrste')\n",
    "plt.ylabel('Število pojavitev')\n",
    "plt.show()"
   ]
  },
  {
   "cell_type": "markdown",
   "metadata": {},
   "source": [
    "Kot sem predpostavil, graf spominja na obratno sorazmerno krivuljo  y = k/x + m, kjer je y število pojavitev, x indeks vrste po pogostosti, k in m pa konstanti.  \n",
    "\n",
    "Najbolj ustrezni konstanti lahko poiščemo tako, da poiščemo linearno funkcijo, ki se najbolje prilega obratnim vrednostim pojavitev, pred tem pa odstranimo še vse vrste, ki se pojavijo le enkrat, saj bi povzročile prevelik odstop."
   ]
  },
  {
   "cell_type": "code",
   "execution_count": 227,
   "metadata": {
    "scrolled": false
   },
   "outputs": [
    {
     "data": {
      "image/png": "[encoded data removed]",
      "text/plain": [
       "<Figure size 432x288 with 1 Axes>"
      ]
     },
     "metadata": {
      "needs_background": "light"
     },
     "output_type": "display_data"
    },
    {
     "name": "stdout",
     "output_type": "stream",
     "text": [
      "0.9609359867074135\n"
     ]
    }
   ],
   "source": [
    "def notequals1(x):\n",
    "    return x > 1\n",
    "Filter = Count_species.apply(notequals1)\n",
    "Bigger = Count_species[Filter]\n",
    "\n",
    "\n",
    "def obratna(x):\n",
    "    return 1/x\n",
    "\n",
    "Values = Bigger.apply(obratna).tolist()\n",
    "Indicies = list(range(1,166))\n",
    "k, m, r, _, _ = scipy.stats.linregress(Indicies, Values)\n",
    "\n",
    "def fun(x):\n",
    "    return k*x + m\n",
    "Funkcijske = pd.Series(Indicies).apply(fun)\n",
    "\n",
    "plt.plot(Values)\n",
    "plt.plot(Funkcijske)\n",
    "plt.show()\n",
    "print(r)"
   ]
  },
  {
   "cell_type": "markdown",
   "metadata": {},
   "source": [
    "Iz r vrednosti 0.9609 lahko sklepamo, da se vrednosti dobro prilegajo dobljeni linearni funkciji.  \n",
    "Oglejmo si še obratno sorazmerna grafa."
   ]
  },
  {
   "cell_type": "code",
   "execution_count": 24,
   "metadata": {},
   "outputs": [
    {
     "data": {
      "image/png": "[encoded data removed]",
      "text/plain": [
       "<Figure size 432x288 with 1 Axes>"
      ]
     },
     "metadata": {
      "needs_background": "light"
     },
     "output_type": "display_data"
    }
   ],
   "source": [
    "def fun2(x):\n",
    "    return 1/(k*x) - m/k \n",
    "Funkcijske2 = pd.Series(Indicies).apply(fun2)\n",
    "\n",
    "plt.plot(Bigger)\n",
    "plt.plot(Funkcijske2)\n",
    "plt.xticks([])\n",
    "plt.xlabel('Vrste')\n",
    "plt.ylabel('Število pojavitev')\n",
    "plt.show()"
   ]
  },
  {
   "cell_type": "markdown",
   "metadata": {},
   "source": [
    "Vidimo, da se dobljena funkcija relativno dobro prilega podatkom. To potrjuje hipotezo."
   ]
  },
  {
   "cell_type": "markdown",
   "metadata": {},
   "source": [
    "## Spol furson in njihovih lastnikov\n",
    "Za začetek si oglejmo histograma spolov lastnikov in njihovih furson."
   ]
  },
  {
   "cell_type": "code",
   "execution_count": 53,
   "metadata": {},
   "outputs": [
    {
     "data": {
      "image/png": "[encoded data removed]",
      "text/plain": [
       "<Figure size 432x288 with 1 Axes>"
      ]
     },
     "metadata": {
      "needs_background": "light"
     },
     "output_type": "display_data"
    }
   ],
   "source": [
    "Count_owner_g.plot.bar()\n",
    "plt.xticks([0,1,2,3],[\"Moški\", \"Ženski\", \"Trans ž\", \"Trans m\"])\n",
    "plt.xlabel('Spol uporabnika')\n",
    "plt.show()"
   ]
  },
  {
   "cell_type": "code",
   "execution_count": 54,
   "metadata": {
    "scrolled": true
   },
   "outputs": [
    {
     "data": {
      "image/png": "[encoded data removed]",
      "text/plain": [
       "<Figure size 432x288 with 1 Axes>"
      ]
     },
     "metadata": {
      "needs_background": "light"
     },
     "output_type": "display_data"
    }
   ],
   "source": [
    "Count_fur_g.plot.bar()\n",
    "plt.xticks([0,1,2],[\"Moški\", \"Ženski\", \"Medspolni\"])\n",
    "plt.xlabel('Spol fursone')\n",
    "plt.show()"
   ]
  },
  {
   "cell_type": "markdown",
   "metadata": {},
   "source": [
    "V obeh primerih v množini prevladuje moški spol. Zanimivo pa je, da na drugem histogramu število moških še naraste, število žensk pa pade za približno enako število.  \n",
    "Zdi se, da večina uporabnikov izbira fursone z istim spolom, doberšen del uporabnic pa z drugim. Oglejmo si ta pojav malo podrobneje."
   ]
  },
  {
   "cell_type": "code",
   "execution_count": 156,
   "metadata": {
    "scrolled": true
   },
   "outputs": [
    {
     "data": {
      "text/html": [
       "<div>\n",
       "<style scoped>\n",
       "    .dataframe tbody tr th:only-of-type {\n",
       "        vertical-align: middle;\n",
       "    }\n",
       "\n",
       "    .dataframe tbody tr th {\n",
       "        vertical-align: top;\n",
       "    }\n",
       "\n",
       "    .dataframe thead th {\n",
       "        text-align: right;\n",
       "    }\n",
       "</style>\n",
       "<table border=\"1\" class=\"dataframe\">\n",
       "  <thead>\n",
       "    <tr style=\"text-align: right;\">\n",
       "      <th></th>\n",
       "      <th>Male users</th>\n",
       "      <th>Female users</th>\n",
       "    </tr>\n",
       "    <tr>\n",
       "      <th>Fur_Gender</th>\n",
       "      <th></th>\n",
       "      <th></th>\n",
       "    </tr>\n",
       "  </thead>\n",
       "  <tbody>\n",
       "    <tr>\n",
       "      <th>Male</th>\n",
       "      <td>2439</td>\n",
       "      <td>522</td>\n",
       "    </tr>\n",
       "    <tr>\n",
       "      <th>Female</th>\n",
       "      <td>117</td>\n",
       "      <td>958</td>\n",
       "    </tr>\n",
       "    <tr>\n",
       "      <th>CrossGender</th>\n",
       "      <td>58</td>\n",
       "      <td>69</td>\n",
       "    </tr>\n",
       "  </tbody>\n",
       "</table>\n",
       "</div>"
      ],
      "text/plain": [
       "             Male users  Female users\n",
       "Fur_Gender                           \n",
       "Male               2439           522\n",
       "Female              117           958\n",
       "CrossGender          58            69"
      ]
     },
     "execution_count": 156,
     "metadata": {},
     "output_type": "execute_result"
    }
   ],
   "source": [
    "def is_male(x):\n",
    "    return x == \"Male\" or x == \"Trans FM\"\n",
    "def is_female(x):\n",
    "    return x == \"Female\" or x == \"Trans MF\"\n",
    "\n",
    "Filter1 = furs[\"Owner_Gender\"].apply(is_male)\n",
    "Filtered1 = furs[Filter1].groupby('Fur_Gender').size().sort_values(ascending=False).to_frame(\"Male users\")\n",
    "\n",
    "Filter2 = furs[\"Owner_Gender\"].apply(is_female)\n",
    "Filtered2 = furs[Filter2].groupby('Fur_Gender').size().sort_values(ascending=False).to_frame(\"Female users\")\n",
    "\n",
    "Filtered1.merge(Filtered2, on='Fur_Gender')"
   ]
  },
  {
   "cell_type": "code",
   "execution_count": 69,
   "metadata": {},
   "outputs": [
    {
     "data": {
      "text/plain": [
       "0.06694720734506504"
      ]
     },
     "execution_count": 69,
     "metadata": {},
     "output_type": "execute_result"
    }
   ],
   "source": [
    "(117+58)/(2439+117+58)"
   ]
  },
  {
   "cell_type": "code",
   "execution_count": 71,
   "metadata": {
    "scrolled": true
   },
   "outputs": [
    {
     "data": {
      "text/plain": [
       "0.381536475145255"
      ]
     },
     "execution_count": 71,
     "metadata": {},
     "output_type": "execute_result"
    }
   ],
   "source": [
    "(522+69)/(958+522+69)"
   ]
  },
  {
   "cell_type": "markdown",
   "metadata": {},
   "source": [
    "Ocena na prvi pogled se je izkazala za pravilno. Za fursono drugačnega spola se odloči 38% uporabnic a le 7% uporabnikov.  \n",
    "Transspolnih uporabnikov je premalo, da bi jih lahko ločeno analizirali, zdi pa se, da sledijo podobnemu vzorcu kot cis uporabniki.\n",
    "\n",
    "Sedaj pa si oglejmo še, ali spol uporabnika kako vpliva na izbiro vrste."
   ]
  },
  {
   "cell_type": "code",
   "execution_count": 173,
   "metadata": {
    "scrolled": false
   },
   "outputs": [
    {
     "data": {
      "image/png": "[encoded data removed]",
      "text/plain": [
       "<Figure size 432x288 with 1 Axes>"
      ]
     },
     "metadata": {
      "needs_background": "light"
     },
     "output_type": "display_data"
    }
   ],
   "source": [
    "def procent_men_u(x):\n",
    "    return x/2639\n",
    "def procent_women_u(x):\n",
    "    return x/1551\n",
    "\n",
    "Moski_u = furs[Filter1].groupby('Species').size().apply(procent_men_u).to_frame(name=\"Moski\")\n",
    "Zenske_u = furs[Filter2].groupby('Species').size().apply(procent_women_u).to_frame(name=\"Zenske\")\n",
    "Ordered_u = Count_species.to_frame().merge(Moski_u, how='left', on='Species').merge(Zenske_u, how='left', on='Species')\n",
    "Ordered_u[[\"Moski\", \"Zenske\"]].head(30).plot.bar()\n",
    "plt.title(\"Živalske vrste, ločene glede na spol uporabnika\")\n",
    "plt.show()"
   ]
  },
  {
   "cell_type": "markdown",
   "metadata": {},
   "source": [
    "Zdi se, da se uporabnice bolj nagibajo proti manjšim, mačkam-podobnim živalim kot so mačka, hijena, fennec, rdeča panda, gepard in ris, uporabniki pa proti večjim in bolj raznolikim živalim kot so volk, lev, tiger, medved, rakun, kenguru in vidra.  \n",
    "Morda je malo čudno, da sta med največjimi skupinami pes in husky, saj je ena od njiju podskupina druge, iz podatkov pa je razvidno, da so moški bolj nagnjeni k izbiri huskyja, ženske pa k izbiri bolj splošnega psa.\n",
    "\n",
    "Prepostavil sem le, da bo obstajala nekakšna korelacija med spolom in živalsko vrsto. Med spoloma ni velikega razkola, mislim pa, da doberšne razlike pri nekaj izmed najpogostejših vrst hipotezo potrdijo."
   ]
  },
  {
   "cell_type": "markdown",
   "metadata": {},
   "source": [
    "## Starosti uporabnikov\n",
    "Najprej si oglejmo trenutne starosti uporabnikov strani."
   ]
  },
  {
   "cell_type": "code",
   "execution_count": 13,
   "metadata": {
    "scrolled": true
   },
   "outputs": [
    {
     "data": {
      "image/png": "[encoded data removed]",
      "text/plain": [
       "<Figure size 432x288 with 1 Axes>"
      ]
     },
     "metadata": {
      "needs_background": "light"
     },
     "output_type": "display_data"
    }
   ],
   "source": [
    "def youre_not_that_old(x):\n",
    "    return x < 100\n",
    "def age(date):\n",
    "    return 2021 - int(date[0:4])\n",
    "Dates = furs[\"Birthday\"].dropna().apply(age)\n",
    "Filter5 = Dates.apply(youre_not_that_old)\n",
    "Filtered5 = Dates[Filter5]\n",
    "Ages = pd.DataFrame(Filtered5).groupby(\"Birthday\").size()\n",
    "Ages.plot.bar()\n",
    "plt.xticks(np.arange(2, 67, step=10))\n",
    "plt.xlabel('Starost')\n",
    "plt.show()"
   ]
  },
  {
   "cell_type": "markdown",
   "metadata": {},
   "source": [
    "Kot pričakovano, je distribucija starosti normalna, do vrha pa pride nekje v zgodnjih 30ih letih, z nekaj odstopanja.  \n",
    "Sedaj pa si oglejmo še distribucijo starosti, ko so uporabniki kupili svoj fursuit."
   ]
  },
  {
   "cell_type": "code",
   "execution_count": 47,
   "metadata": {},
   "outputs": [
    {
     "data": {
      "image/png": "[encoded data removed]",
      "text/plain": [
       "<Figure size 432x288 with 1 Axes>"
      ]
     },
     "metadata": {
      "needs_background": "light"
     },
     "output_type": "display_data"
    }
   ],
   "source": [
    "def year(date):\n",
    "    return int(date[0:4])\n",
    "\n",
    "def exists(x):\n",
    "    return bool(x)\n",
    "\n",
    "Filter_added = furs[\"Date_Fursuit_Added\"].fillna(False).apply(exists)\n",
    "Filter_birthday = furs[\"Birthday\"].fillna(False).apply(exists)\n",
    "furs_ima_oboje = furs[Filter_added & Filter_birthday & Filter5]\n",
    "\n",
    "Kupili = furs_ima_oboje[\"Date_Fursuit_Added\"].apply(year).tolist()\n",
    "Rodili = furs_ima_oboje[\"Birthday\"].apply(year).tolist()\n",
    "\n",
    "def subtract_lists(l1, l2):\n",
    "    difference = []\n",
    "    zipped = zip(l1, l2)\n",
    "    for i, j in zipped:\n",
    "        difference.append(i - j)\n",
    "    return difference\n",
    "\n",
    "Razlika = pd.Series(subtract_lists(Kupili, Rodili), name=\"Starost\")\n",
    "Ages = pd.DataFrame(Razlika).groupby(\"Starost\").size()\n",
    "Ages.plot.bar()\n",
    "plt.xticks(np.arange(2, 67, step=5))\n",
    "plt.show()"
   ]
  },
  {
   "cell_type": "markdown",
   "metadata": {},
   "source": [
    "Tudi ta distribucija je videti normalna, vendar je rahlo zamaknjena v levo. Moja hipoteza, da bodo uporabniki fursuit kupili v svojih srednjih dvajsetih letih, pa se je izkazala za ne povsem pravilno. Videti je, da se vrh nahaja nekje med zgodnjimi dvajsetimi in poznimi najstniškimi leti."
   ]
  },
  {
   "cell_type": "code",
   "execution_count": null,
   "metadata": {},
   "outputs": [],
   "source": []
  }
 ],
 "metadata": {
  "kernelspec": {
   "display_name": "Python 3",
   "language": "python",
   "name": "python3"
  },
  "language_info": {
   "codemirror_mode": {
    "name": "ipython",
    "version": 3
   },
   "file_extension": ".py",
   "mimetype": "text/x-python",
   "name": "python",
   "nbconvert_exporter": "python",
   "pygments_lexer": "ipython3",
   "version": "3.8.2"
  }
 },
 "nbformat": 4,
 "nbformat_minor": 2
}
